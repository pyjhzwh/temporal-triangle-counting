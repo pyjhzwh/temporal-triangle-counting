{
 "cells": [
  {
   "cell_type": "code",
   "execution_count": 2,
   "metadata": {},
   "outputs": [],
   "source": [
    "#-*- coding: utf-8 -*-\n",
    "import matplotlib.pyplot as plt\n",
    "import numpy as np\n",
    "def geomean(iterable):\n",
    "    arr = np.array(iterable)\n",
    "    return arr.prod() ** (1.0/len(arr))"
   ]
  },
  {
   "cell_type": "code",
   "execution_count": 19,
   "metadata": {},
   "outputs": [
    {
     "data": {
      "text/plain": [
       "<matplotlib.collections.PathCollection at 0x7ff8e93458d0>"
      ]
     },
     "execution_count": 19,
     "metadata": {},
     "output_type": "execute_result"
    },
    {
     "data": {
      "image/png": "[encoded data removed]",
      "text/plain": [
       "<Figure size 648x288 with 1 Axes>"
      ]
     },
     "metadata": {},
     "output_type": "display_data"
    }
   ],
   "source": [
    "temporal_cnt = []\n",
    "static_cnt = []\n",
    "graph = \"CollegeMsg\" # \"email-Eu-core-temporal\" \"wiki-talk-temporal\" \"sx-stackoverflow\"\n",
    "filename = f\"../statistics/{graph}.txt\"\n",
    "with open(filename, \"r\") as f:\n",
    "    for line in f.readlines():\n",
    "        split_line = line.split(\" \")\n",
    "        assert len(split_line) == 2\n",
    "        temporal_cnt.append(int(split_line[0]))\n",
    "        static_cnt.append(int(split_line[1]))\n",
    "fig = plt.figure(figsize =(9,4))\n",
    "\n",
    "bar_width = 0.25\n",
    "plt.scatter(temporal_cnt, static_cnt)"
   ]
  }
 ],
 "metadata": {
  "kernelspec": {
   "display_name": "Python 3",
   "language": "python",
   "name": "python3"
  },
  "language_info": {
   "codemirror_mode": {
    "name": "ipython",
    "version": 3
   },
   "file_extension": ".py",
   "mimetype": "text/x-python",
   "name": "python",
   "nbconvert_exporter": "python",
   "pygments_lexer": "ipython3",
   "version": "3.6.9"
  },
  "orig_nbformat": 4,
  "vscode": {
   "interpreter": {
    "hash": "30295c5bec572e859485b1ffa5e89b8b3e2022ef6e3e739c1ac40f143a557caf"
   }
  }
 },
 "nbformat": 4,
 "nbformat_minor": 2
}
